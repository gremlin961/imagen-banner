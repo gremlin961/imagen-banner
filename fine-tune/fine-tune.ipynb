{
 "cells": [
  {
   "cell_type": "markdown",
   "id": "d79c4d90-cb68-43cb-b266-34c1e0d7bdae",
   "metadata": {},
   "source": [
    "Make sure to follow the steps outlined in the link below to increase your project quota before proceeding\n",
    "https://cloud.google.com/vertex-ai/docs/generative-ai/image/fine-tune-model#byb"
   ]
  },
  {
   "cell_type": "code",
   "execution_count": null,
   "id": "ea61cfd7-6c71-40a0-9973-f5ae1035fa5b",
   "metadata": {},
   "outputs": [],
   "source": [
    "#pip install google-cloud-resource-manager"
   ]
  },
  {
   "cell_type": "code",
   "execution_count": null,
   "id": "976887e4-3bc5-4e38-bf88-e4b25ef7f8fb",
   "metadata": {
    "tags": []
   },
   "outputs": [],
   "source": [
    "PROJECT_ID = \"rkiles-demo-host-vpc\"\n",
    "CLASS_NAME = \"hammer\""
   ]
  },
  {
   "cell_type": "code",
   "execution_count": null,
   "id": "326be280-f56c-43fc-a06f-8e0d90e3c287",
   "metadata": {},
   "outputs": [],
   "source": [
    "bucket_name = PROJECT_ID + '-imagen-ft'\n",
    "LOCATION = \"asia-southeast1\"\n",
    "PIPELINE_NAME = \"imagen-ft-pipeline01\"\n",
    "PIPELINE_OUTPUT_DIR = 'gs://'+bucket_name+'/pipeline_outputs'\n",
    "DEPLOYMENT_REPLICA_COUNT = \"1\"\n",
    "MODEL_NAME = \"ftmodel-\"+CLASS_NAME"
   ]
  },
  {
   "cell_type": "code",
   "execution_count": null,
   "id": "6a9d5184-e194-4526-bd02-38feeff3caf6",
   "metadata": {},
   "outputs": [],
   "source": [
    "from google.cloud import storage \n",
    "from google.cloud import resourcemanager_v3\n",
    "import google.auth.transport.requests\n",
    "import google.auth\n",
    "import requests\n",
    "import json\n",
    "import os"
   ]
  },
  {
   "cell_type": "code",
   "execution_count": null,
   "id": "a5f37e11-9c05-401a-a6ff-18e086395a2a",
   "metadata": {},
   "outputs": [],
   "source": [
    "storage_client = storage.Client()"
   ]
  },
  {
   "cell_type": "markdown",
   "id": "7c22f8b2-8896-4771-af00-c8bf61c16440",
   "metadata": {},
   "source": [
    "Mention something about how storage.bucket.create by default is in the Storage Admin IAM role. For simplicity I added this role to the service account running the notebook for this demo, but you would want to either create a custom role with minimum rights, or more realisticly use an exisitng bucket with restricted permissions to just create/access objects."
   ]
  },
  {
   "cell_type": "code",
   "execution_count": null,
   "id": "05b08dfb-c575-458b-8613-f27b0361c14b",
   "metadata": {},
   "outputs": [],
   "source": [
    "bucket = storage.Bucket(storage_client, bucket_name)\n",
    "\n",
    "if bucket.exists() == False:\n",
    "    bucket.create()"
   ]
  },
  {
   "cell_type": "code",
   "execution_count": null,
   "id": "ed9289a9-9d3d-45f0-a3e3-ca1000457346",
   "metadata": {},
   "outputs": [],
   "source": [
    "training_image_dir = 'ft-images/'\n",
    "for filename in os.listdir(training_image_dir):\n",
    "    if filename.endswith('.jpg'):\n",
    "        blob = bucket.blob('images/'+filename)\n",
    "        blob.upload_from_filename(training_image_dir + filename)\n",
    "        print(\"uploaded \" + filename)"
   ]
  },
  {
   "cell_type": "code",
   "execution_count": null,
   "id": "b3c016d2-4e8c-492a-8cb5-0e92a0872c6c",
   "metadata": {},
   "outputs": [],
   "source": [
    "blobs = storage_client.list_blobs(bucket_name, prefix='images')\n",
    "training_file = 'ft-training.csv'\n",
    "write_file = open(training_file, 'w')\n",
    "for blob in blobs:\n",
    "    write_file.write('gs://' + blob.bucket.name + '/' + blob.name + '\\n')\n",
    "write_file.close()\n",
    "training_file_blob = bucket.blob(training_file)\n",
    "training_file_blob.upload_from_filename(training_file)"
   ]
  },
  {
   "cell_type": "markdown",
   "id": "0e9cf78f-b000-46d5-bf8f-4607e2638776",
   "metadata": {},
   "source": [
    "## Authenticate to the Vertex AI API"
   ]
  },
  {
   "cell_type": "markdown",
   "id": "4c28ce65-5e38-418b-9d4a-85d09d88ea4f",
   "metadata": {},
   "source": [
    "Our Vertex Workbench instance is configured to use a specified service account that has IAM access to the text-to-vision API. The following two secitons will allow us to generate the access token we will pass as an authorization bearer token later in the header."
   ]
  },
  {
   "cell_type": "code",
   "execution_count": null,
   "id": "c42663de-6f76-4227-884c-dfc786899145",
   "metadata": {},
   "outputs": [],
   "source": [
    "credentials, project_id = google.auth.default()\n",
    "auth_req = google.auth.transport.requests.Request()\n",
    "credentials.refresh(auth_req)"
   ]
  },
  {
   "cell_type": "code",
   "execution_count": null,
   "id": "c3ce836f-7d67-4459-8b87-2e8be696a4ca",
   "metadata": {},
   "outputs": [],
   "source": [
    "access_token = credentials.token"
   ]
  },
  {
   "cell_type": "code",
   "execution_count": null,
   "id": "7fbb67ea-e7a1-4865-90a6-33b1dc09b861",
   "metadata": {},
   "outputs": [],
   "source": [
    "resource_client = resourcemanager_v3.ProjectsClient()\n",
    "resource_request = resourcemanager_v3.SearchProjectsRequest(query=f\"id:{PROJECT_ID}\")\n",
    "page_result = resource_client.search_projects(request=resource_request)\n",
    "for response in page_result:\n",
    "    if response.project_id == PROJECT_ID:\n",
    "        project = response.name\n",
    "        project_number = project.replace('projects/', '')\n",
    "        print(project_number)"
   ]
  },
  {
   "cell_type": "code",
   "execution_count": null,
   "id": "6433c385-5a26-40a9-bb77-4f0f64fce06c",
   "metadata": {},
   "outputs": [],
   "source": [
    "PIPELINE_SA = project_number + '-compute@developer.gserviceaccount.com'"
   ]
  },
  {
   "cell_type": "markdown",
   "id": "204ecc09-c0e3-418e-acf5-69f5b683b903",
   "metadata": {},
   "source": [
    "## Prepare the HTTP POST request to the REST API"
   ]
  },
  {
   "cell_type": "code",
   "execution_count": null,
   "id": "52f12901-ee96-464a-9227-e28842d788b5",
   "metadata": {},
   "outputs": [],
   "source": [
    "headers = {\n",
    "        'Authorization': 'Bearer ' + access_token,\n",
    "        'Content-Type': 'application/json; charset=utf-8'\n",
    "    }"
   ]
  },
  {
   "cell_type": "code",
   "execution_count": null,
   "id": "288569a4-3041-44e9-bf7d-d8b4310cc558",
   "metadata": {
    "tags": []
   },
   "outputs": [],
   "source": [
    "training_file_uri = 'gs://' + training_file_blob.bucket.name + '/' + training_file_blob.name"
   ]
  },
  {
   "cell_type": "code",
   "execution_count": null,
   "id": "83ca0946-9a8b-4b34-9335-42fa01c9854f",
   "metadata": {},
   "outputs": [],
   "source": [
    "pipeline_url = f'https://{LOCATION}-aiplatform.googleapis.com/ui/projects/{PROJECT_ID}/locations/{LOCATION}/pipelineJobs'"
   ]
  },
  {
   "cell_type": "code",
   "execution_count": null,
   "id": "aee99736-0103-4651-8121-f27337660acd",
   "metadata": {},
   "outputs": [],
   "source": [
    "#request_body = '{\"displayName\": \"'+ PIPELINE_NAME +'\",\"runtimeConfig\": {\"gcsOutputDirectory\": \"'+PIPELINE_OUTPUT_DIR+'\",\"parameterValues\": {\"class_name\": \"'+CLASS_NAME+'\",\"project\": \"'+project_number+'\",\"image_csv_uri\": \"'+training_file_uri+'\",\"location\": \"'+LOCATION+'\",\"mode\": \"subject\",\"model_display_name\" : \"'+MODEL_NAME+'\",\"deployment_replica_count\": '+DEPLOYMENT_REPLICA_COUNT+'}},\"templateUri\": \"https://us-kfp.pkg.dev/ml-pipeline/google-cloud-registry/lvm-finetuning/stable\",\"serviceAccount\": \"'+PIPELINE_SA+'\"}'"
   ]
  },
  {
   "cell_type": "code",
   "execution_count": null,
   "id": "ab5c788d-8a86-4733-b7b1-8ee343ec2436",
   "metadata": {},
   "outputs": [],
   "source": [
    "request_body = '{\"displayName\": \"'+ PIPELINE_NAME +'\",\"runtimeConfig\": {\"gcsOutputDirectory\": \"'+PIPELINE_OUTPUT_DIR+'\",\"parameterValues\": {\"class_name\": \"'+CLASS_NAME+'\",\"project\": \"'+project_number+'\",\"image_csv_uri\": \"'+training_file_uri+'\",\"location\": \"'+LOCATION+'\",\"mode\": \"subject\",\"model_display_name\" : \"'+MODEL_NAME+'\",\"deployment_replica_count\": '+DEPLOYMENT_REPLICA_COUNT+'}},\"templateUri\": \"https://us-central1-kfp.pkg.dev/rkiles-demo-host-vpc/finetune-kfp-repo/a100v2/v3\",\"serviceAccount\": \"'+PIPELINE_SA+'\"}'"
   ]
  },
  {
   "cell_type": "code",
   "execution_count": null,
   "id": "ed0af54f-ffbf-4748-8766-57c30f259310",
   "metadata": {},
   "outputs": [],
   "source": [
    "print(request_body)"
   ]
  },
  {
   "cell_type": "markdown",
   "id": "1539fa9e-2a49-4ae4-b5bf-e5b25ca2b648",
   "metadata": {},
   "source": [
    "Mention something about how the service account the notebook is running on needs to have service account user rights to the defualt computer service account so it can run the pipeline"
   ]
  },
  {
   "cell_type": "code",
   "execution_count": null,
   "id": "da45e814-8209-4a3c-a7e9-1cbe917588bc",
   "metadata": {},
   "outputs": [],
   "source": [
    "r = requests.post(pipeline_url, data=request_body, headers=headers)"
   ]
  },
  {
   "cell_type": "code",
   "execution_count": null,
   "id": "b8e5eb62-6d33-456c-8989-fa3ee1b28dc4",
   "metadata": {},
   "outputs": [],
   "source": [
    "print(r.status_code)"
   ]
  },
  {
   "cell_type": "code",
   "execution_count": null,
   "id": "aa1777f0-5b23-4477-b7d5-9af18fb586f5",
   "metadata": {},
   "outputs": [],
   "source": [
    "#print(r.content)"
   ]
  },
  {
   "cell_type": "code",
   "execution_count": null,
   "id": "f7444b46-fe1d-4c61-8582-7c41dea33246",
   "metadata": {},
   "outputs": [],
   "source": [
    "#job_data = r.json()"
   ]
  },
  {
   "cell_type": "code",
   "execution_count": null,
   "id": "451309aa-8db2-43d0-81d7-6ce24f60e8fd",
   "metadata": {},
   "outputs": [],
   "source": [
    "#status_url = f'https://{LOCATION}-aiplatform.googleapis.com/ui/'+job_data[\"name\"]\n",
    "#status = requests.get(status_url, headers=headers)\n",
    "#print(status.text)"
   ]
  }
 ],
 "metadata": {
  "environment": {
   "kernel": "python3",
   "name": "common-cpu.m110",
   "type": "gcloud",
   "uri": "gcr.io/deeplearning-platform-release/base-cpu:m110"
  },
  "kernelspec": {
   "display_name": "Python 3",
   "language": "python",
   "name": "python3"
  },
  "language_info": {
   "codemirror_mode": {
    "name": "ipython",
    "version": 3
   },
   "file_extension": ".py",
   "mimetype": "text/x-python",
   "name": "python",
   "nbconvert_exporter": "python",
   "pygments_lexer": "ipython3",
   "version": "3.10.12"
  }
 },
 "nbformat": 4,
 "nbformat_minor": 5
}
